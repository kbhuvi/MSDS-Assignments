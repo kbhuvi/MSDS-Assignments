{
  "nbformat": 4,
  "nbformat_minor": 0,
  "metadata": {
    "colab": {
      "name": "TealBook_Assignment.ipynb",
      "provenance": [],
      "authorship_tag": "ABX9TyP2SAJzUwKkty2pOpTZD/Jg",
      "include_colab_link": true
    },
    "kernelspec": {
      "name": "python3",
      "display_name": "Python 3"
    },
    "language_info": {
      "name": "python"
    }
  },
  "cells": [
    {
      "cell_type": "markdown",
      "metadata": {
        "id": "view-in-github",
        "colab_type": "text"
      },
      "source": [
        "<a href=\"https://colab.research.google.com/github/kbhuvi/MSDS-Assignments/blob/master/TealBook_Assignment.ipynb\" target=\"_parent\"><img src=\"https://colab.research.google.com/assets/colab-badge.svg\" alt=\"Open In Colab\"/></a>"
      ]
    },
    {
      "cell_type": "code",
      "metadata": {
        "id": "0kpCyugLb_7b"
      },
      "source": [
        "!pip3 install swifter\n"
      ],
      "execution_count": null,
      "outputs": []
    },
    {
      "cell_type": "code",
      "metadata": {
        "id": "xZzRDFdgIGnM"
      },
      "source": [
        "import pandas as pd\n",
        "import numpy as np\n",
        "import swifter\n"
      ],
      "execution_count": null,
      "outputs": []
    },
    {
      "cell_type": "markdown",
      "metadata": {
        "id": "9BJu0TkVIsaM"
      },
      "source": [
        "# Load the files into pandas dataframe for analysis."
      ]
    },
    {
      "cell_type": "code",
      "metadata": {
        "id": "urXt3g1GIyNs"
      },
      "source": [
        "city_df = pd.read_csv(\"cities.csv\")\n",
        "climate_df = pd.read_csv('climate.csv')"
      ],
      "execution_count": null,
      "outputs": []
    },
    {
      "cell_type": "markdown",
      "metadata": {
        "id": "H5blULyOJCV1"
      },
      "source": [
        "# Analysis of city dataframe to understand the fields and data"
      ]
    },
    {
      "cell_type": "code",
      "metadata": {
        "colab": {
          "base_uri": "https://localhost:8080/"
        },
        "id": "7p8lZDgVJBjn",
        "outputId": "2798ba34-92bd-463a-e314-5d5068852f2c"
      },
      "source": [
        "city_df.columns"
      ],
      "execution_count": null,
      "outputs": [
        {
          "output_type": "execute_result",
          "data": {
            "text/plain": [
              "Index(['city', 'lat', 'lng', 'country', 'iso2', 'admin', 'capital',\n",
              "       'population', 'population_proper'],\n",
              "      dtype='object')"
            ]
          },
          "metadata": {},
          "execution_count": 43
        }
      ]
    },
    {
      "cell_type": "code",
      "metadata": {
        "colab": {
          "base_uri": "https://localhost:8080/"
        },
        "id": "zZrbE-jtJVE3",
        "outputId": "9ff1964e-3f7f-48d8-c094-e5de2d540063"
      },
      "source": [
        "city_df.dtypes"
      ],
      "execution_count": null,
      "outputs": [
        {
          "output_type": "execute_result",
          "data": {
            "text/plain": [
              "city                  object\n",
              "lat                  float64\n",
              "lng                  float64\n",
              "country               object\n",
              "iso2                  object\n",
              "admin                 object\n",
              "capital               object\n",
              "population             int64\n",
              "population_proper      int64\n",
              "dtype: object"
            ]
          },
          "metadata": {},
          "execution_count": 44
        }
      ]
    },
    {
      "cell_type": "code",
      "metadata": {
        "colab": {
          "base_uri": "https://localhost:8080/",
          "height": 297
        },
        "id": "t7AuPH9-JbKM",
        "outputId": "cafffcb0-f7ee-4fd7-a941-1c187393805e"
      },
      "source": [
        "city_df.describe()"
      ],
      "execution_count": null,
      "outputs": [
        {
          "output_type": "execute_result",
          "data": {
            "text/html": [
              "<div>\n",
              "<style scoped>\n",
              "    .dataframe tbody tr th:only-of-type {\n",
              "        vertical-align: middle;\n",
              "    }\n",
              "\n",
              "    .dataframe tbody tr th {\n",
              "        vertical-align: top;\n",
              "    }\n",
              "\n",
              "    .dataframe thead th {\n",
              "        text-align: right;\n",
              "    }\n",
              "</style>\n",
              "<table border=\"1\" class=\"dataframe\">\n",
              "  <thead>\n",
              "    <tr style=\"text-align: right;\">\n",
              "      <th></th>\n",
              "      <th>lat</th>\n",
              "      <th>lng</th>\n",
              "      <th>population</th>\n",
              "      <th>population_proper</th>\n",
              "    </tr>\n",
              "  </thead>\n",
              "  <tbody>\n",
              "    <tr>\n",
              "      <th>count</th>\n",
              "      <td>247.000000</td>\n",
              "      <td>247.000000</td>\n",
              "      <td>2.470000e+02</td>\n",
              "      <td>2.470000e+02</td>\n",
              "    </tr>\n",
              "    <tr>\n",
              "      <th>mean</th>\n",
              "      <td>52.922777</td>\n",
              "      <td>-91.917140</td>\n",
              "      <td>9.365829e+04</td>\n",
              "      <td>6.671848e+04</td>\n",
              "    </tr>\n",
              "    <tr>\n",
              "      <th>std</th>\n",
              "      <td>7.340857</td>\n",
              "      <td>22.935838</td>\n",
              "      <td>4.510522e+05</td>\n",
              "      <td>3.120743e+05</td>\n",
              "    </tr>\n",
              "    <tr>\n",
              "      <th>min</th>\n",
              "      <td>42.301649</td>\n",
              "      <td>-139.450000</td>\n",
              "      <td>0.000000e+00</td>\n",
              "      <td>0.000000e+00</td>\n",
              "    </tr>\n",
              "    <tr>\n",
              "      <th>25%</th>\n",
              "      <td>48.183334</td>\n",
              "      <td>-112.750000</td>\n",
              "      <td>1.089000e+03</td>\n",
              "      <td>1.066000e+03</td>\n",
              "    </tr>\n",
              "    <tr>\n",
              "      <th>50%</th>\n",
              "      <td>50.933333</td>\n",
              "      <td>-89.233333</td>\n",
              "      <td>5.043000e+03</td>\n",
              "      <td>4.331000e+03</td>\n",
              "    </tr>\n",
              "    <tr>\n",
              "      <th>75%</th>\n",
              "      <td>55.783333</td>\n",
              "      <td>-73.096227</td>\n",
              "      <td>2.591750e+04</td>\n",
              "      <td>2.435050e+04</td>\n",
              "    </tr>\n",
              "    <tr>\n",
              "      <th>max</th>\n",
              "      <td>82.483333</td>\n",
              "      <td>-52.666667</td>\n",
              "      <td>5.213000e+06</td>\n",
              "      <td>3.934421e+06</td>\n",
              "    </tr>\n",
              "  </tbody>\n",
              "</table>\n",
              "</div>"
            ],
            "text/plain": [
              "              lat         lng    population  population_proper\n",
              "count  247.000000  247.000000  2.470000e+02       2.470000e+02\n",
              "mean    52.922777  -91.917140  9.365829e+04       6.671848e+04\n",
              "std      7.340857   22.935838  4.510522e+05       3.120743e+05\n",
              "min     42.301649 -139.450000  0.000000e+00       0.000000e+00\n",
              "25%     48.183334 -112.750000  1.089000e+03       1.066000e+03\n",
              "50%     50.933333  -89.233333  5.043000e+03       4.331000e+03\n",
              "75%     55.783333  -73.096227  2.591750e+04       2.435050e+04\n",
              "max     82.483333  -52.666667  5.213000e+06       3.934421e+06"
            ]
          },
          "metadata": {},
          "execution_count": 45
        }
      ]
    },
    {
      "cell_type": "code",
      "metadata": {
        "colab": {
          "base_uri": "https://localhost:8080/",
          "height": 204
        },
        "id": "xkgc1JISJfWG",
        "outputId": "50f0bcfe-2cd6-4c65-b3b4-c7a7faf8f9dc"
      },
      "source": [
        "city_df.head(5)"
      ],
      "execution_count": null,
      "outputs": [
        {
          "output_type": "execute_result",
          "data": {
            "text/html": [
              "<div>\n",
              "<style scoped>\n",
              "    .dataframe tbody tr th:only-of-type {\n",
              "        vertical-align: middle;\n",
              "    }\n",
              "\n",
              "    .dataframe tbody tr th {\n",
              "        vertical-align: top;\n",
              "    }\n",
              "\n",
              "    .dataframe thead th {\n",
              "        text-align: right;\n",
              "    }\n",
              "</style>\n",
              "<table border=\"1\" class=\"dataframe\">\n",
              "  <thead>\n",
              "    <tr style=\"text-align: right;\">\n",
              "      <th></th>\n",
              "      <th>city</th>\n",
              "      <th>lat</th>\n",
              "      <th>lng</th>\n",
              "      <th>country</th>\n",
              "      <th>iso2</th>\n",
              "      <th>admin</th>\n",
              "      <th>capital</th>\n",
              "      <th>population</th>\n",
              "      <th>population_proper</th>\n",
              "    </tr>\n",
              "  </thead>\n",
              "  <tbody>\n",
              "    <tr>\n",
              "      <th>0</th>\n",
              "      <td>Toronto</td>\n",
              "      <td>43.666667</td>\n",
              "      <td>-79.416667</td>\n",
              "      <td>Canada</td>\n",
              "      <td>CA</td>\n",
              "      <td>Ontario</td>\n",
              "      <td>admin</td>\n",
              "      <td>5213000</td>\n",
              "      <td>3934421</td>\n",
              "    </tr>\n",
              "    <tr>\n",
              "      <th>1</th>\n",
              "      <td>Montréal</td>\n",
              "      <td>45.500000</td>\n",
              "      <td>-73.583333</td>\n",
              "      <td>Canada</td>\n",
              "      <td>CA</td>\n",
              "      <td>Québec</td>\n",
              "      <td>NaN</td>\n",
              "      <td>3678000</td>\n",
              "      <td>2356556</td>\n",
              "    </tr>\n",
              "    <tr>\n",
              "      <th>2</th>\n",
              "      <td>Vancouver</td>\n",
              "      <td>49.250000</td>\n",
              "      <td>-123.133333</td>\n",
              "      <td>Canada</td>\n",
              "      <td>CA</td>\n",
              "      <td>British Columbia</td>\n",
              "      <td>NaN</td>\n",
              "      <td>2313328</td>\n",
              "      <td>603502</td>\n",
              "    </tr>\n",
              "    <tr>\n",
              "      <th>3</th>\n",
              "      <td>Ottawa</td>\n",
              "      <td>45.416667</td>\n",
              "      <td>-75.700000</td>\n",
              "      <td>Canada</td>\n",
              "      <td>CA</td>\n",
              "      <td>Ontario</td>\n",
              "      <td>primary</td>\n",
              "      <td>1145000</td>\n",
              "      <td>812129</td>\n",
              "    </tr>\n",
              "    <tr>\n",
              "      <th>4</th>\n",
              "      <td>Calgary</td>\n",
              "      <td>51.083333</td>\n",
              "      <td>-114.083333</td>\n",
              "      <td>Canada</td>\n",
              "      <td>CA</td>\n",
              "      <td>Alberta</td>\n",
              "      <td>NaN</td>\n",
              "      <td>1110000</td>\n",
              "      <td>915322</td>\n",
              "    </tr>\n",
              "  </tbody>\n",
              "</table>\n",
              "</div>"
            ],
            "text/plain": [
              "        city        lat         lng  ...  capital population population_proper\n",
              "0    Toronto  43.666667  -79.416667  ...    admin    5213000           3934421\n",
              "1   Montréal  45.500000  -73.583333  ...      NaN    3678000           2356556\n",
              "2  Vancouver  49.250000 -123.133333  ...      NaN    2313328            603502\n",
              "3     Ottawa  45.416667  -75.700000  ...  primary    1145000            812129\n",
              "4    Calgary  51.083333 -114.083333  ...      NaN    1110000            915322\n",
              "\n",
              "[5 rows x 9 columns]"
            ]
          },
          "metadata": {},
          "execution_count": 46
        }
      ]
    },
    {
      "cell_type": "code",
      "metadata": {
        "colab": {
          "base_uri": "https://localhost:8080/",
          "height": 483
        },
        "id": "OoYRfFQjJikA",
        "outputId": "86533643-55cc-4c16-cde1-cbef2ded8d33"
      },
      "source": [
        "city_df.groupby(['admin']).count()"
      ],
      "execution_count": null,
      "outputs": [
        {
          "output_type": "execute_result",
          "data": {
            "text/html": [
              "<div>\n",
              "<style scoped>\n",
              "    .dataframe tbody tr th:only-of-type {\n",
              "        vertical-align: middle;\n",
              "    }\n",
              "\n",
              "    .dataframe tbody tr th {\n",
              "        vertical-align: top;\n",
              "    }\n",
              "\n",
              "    .dataframe thead th {\n",
              "        text-align: right;\n",
              "    }\n",
              "</style>\n",
              "<table border=\"1\" class=\"dataframe\">\n",
              "  <thead>\n",
              "    <tr style=\"text-align: right;\">\n",
              "      <th></th>\n",
              "      <th>city</th>\n",
              "      <th>lat</th>\n",
              "      <th>lng</th>\n",
              "      <th>country</th>\n",
              "      <th>iso2</th>\n",
              "      <th>capital</th>\n",
              "      <th>population</th>\n",
              "      <th>population_proper</th>\n",
              "    </tr>\n",
              "    <tr>\n",
              "      <th>admin</th>\n",
              "      <th></th>\n",
              "      <th></th>\n",
              "      <th></th>\n",
              "      <th></th>\n",
              "      <th></th>\n",
              "      <th></th>\n",
              "      <th></th>\n",
              "      <th></th>\n",
              "    </tr>\n",
              "  </thead>\n",
              "  <tbody>\n",
              "    <tr>\n",
              "      <th>Alberta</th>\n",
              "      <td>20</td>\n",
              "      <td>20</td>\n",
              "      <td>20</td>\n",
              "      <td>20</td>\n",
              "      <td>20</td>\n",
              "      <td>1</td>\n",
              "      <td>20</td>\n",
              "      <td>20</td>\n",
              "    </tr>\n",
              "    <tr>\n",
              "      <th>British Columbia</th>\n",
              "      <td>31</td>\n",
              "      <td>31</td>\n",
              "      <td>31</td>\n",
              "      <td>31</td>\n",
              "      <td>31</td>\n",
              "      <td>1</td>\n",
              "      <td>31</td>\n",
              "      <td>31</td>\n",
              "    </tr>\n",
              "    <tr>\n",
              "      <th>Manitoba</th>\n",
              "      <td>20</td>\n",
              "      <td>20</td>\n",
              "      <td>20</td>\n",
              "      <td>20</td>\n",
              "      <td>20</td>\n",
              "      <td>1</td>\n",
              "      <td>20</td>\n",
              "      <td>20</td>\n",
              "    </tr>\n",
              "    <tr>\n",
              "      <th>New Brunswick</th>\n",
              "      <td>5</td>\n",
              "      <td>5</td>\n",
              "      <td>5</td>\n",
              "      <td>5</td>\n",
              "      <td>5</td>\n",
              "      <td>1</td>\n",
              "      <td>5</td>\n",
              "      <td>5</td>\n",
              "    </tr>\n",
              "    <tr>\n",
              "      <th>Newfoundland and Labrador</th>\n",
              "      <td>19</td>\n",
              "      <td>19</td>\n",
              "      <td>19</td>\n",
              "      <td>19</td>\n",
              "      <td>19</td>\n",
              "      <td>1</td>\n",
              "      <td>19</td>\n",
              "      <td>19</td>\n",
              "    </tr>\n",
              "    <tr>\n",
              "      <th>Northwest Territories</th>\n",
              "      <td>15</td>\n",
              "      <td>15</td>\n",
              "      <td>15</td>\n",
              "      <td>15</td>\n",
              "      <td>15</td>\n",
              "      <td>1</td>\n",
              "      <td>15</td>\n",
              "      <td>15</td>\n",
              "    </tr>\n",
              "    <tr>\n",
              "      <th>Nova Scotia</th>\n",
              "      <td>11</td>\n",
              "      <td>11</td>\n",
              "      <td>11</td>\n",
              "      <td>11</td>\n",
              "      <td>11</td>\n",
              "      <td>1</td>\n",
              "      <td>11</td>\n",
              "      <td>11</td>\n",
              "    </tr>\n",
              "    <tr>\n",
              "      <th>Nunavut</th>\n",
              "      <td>22</td>\n",
              "      <td>22</td>\n",
              "      <td>22</td>\n",
              "      <td>22</td>\n",
              "      <td>22</td>\n",
              "      <td>1</td>\n",
              "      <td>22</td>\n",
              "      <td>22</td>\n",
              "    </tr>\n",
              "    <tr>\n",
              "      <th>Ontario</th>\n",
              "      <td>47</td>\n",
              "      <td>47</td>\n",
              "      <td>47</td>\n",
              "      <td>47</td>\n",
              "      <td>47</td>\n",
              "      <td>2</td>\n",
              "      <td>47</td>\n",
              "      <td>47</td>\n",
              "    </tr>\n",
              "    <tr>\n",
              "      <th>Prince Edward Island</th>\n",
              "      <td>1</td>\n",
              "      <td>1</td>\n",
              "      <td>1</td>\n",
              "      <td>1</td>\n",
              "      <td>1</td>\n",
              "      <td>1</td>\n",
              "      <td>1</td>\n",
              "      <td>1</td>\n",
              "    </tr>\n",
              "    <tr>\n",
              "      <th>Québec</th>\n",
              "      <td>36</td>\n",
              "      <td>36</td>\n",
              "      <td>36</td>\n",
              "      <td>36</td>\n",
              "      <td>36</td>\n",
              "      <td>1</td>\n",
              "      <td>36</td>\n",
              "      <td>36</td>\n",
              "    </tr>\n",
              "    <tr>\n",
              "      <th>Saskatchewan</th>\n",
              "      <td>16</td>\n",
              "      <td>16</td>\n",
              "      <td>16</td>\n",
              "      <td>16</td>\n",
              "      <td>16</td>\n",
              "      <td>1</td>\n",
              "      <td>16</td>\n",
              "      <td>16</td>\n",
              "    </tr>\n",
              "    <tr>\n",
              "      <th>Yukon</th>\n",
              "      <td>4</td>\n",
              "      <td>4</td>\n",
              "      <td>4</td>\n",
              "      <td>4</td>\n",
              "      <td>4</td>\n",
              "      <td>1</td>\n",
              "      <td>4</td>\n",
              "      <td>4</td>\n",
              "    </tr>\n",
              "  </tbody>\n",
              "</table>\n",
              "</div>"
            ],
            "text/plain": [
              "                           city  lat  ...  population  population_proper\n",
              "admin                                 ...                               \n",
              "Alberta                      20   20  ...          20                 20\n",
              "British Columbia             31   31  ...          31                 31\n",
              "Manitoba                     20   20  ...          20                 20\n",
              "New Brunswick                 5    5  ...           5                  5\n",
              "Newfoundland and Labrador    19   19  ...          19                 19\n",
              "Northwest Territories        15   15  ...          15                 15\n",
              "Nova Scotia                  11   11  ...          11                 11\n",
              "Nunavut                      22   22  ...          22                 22\n",
              "Ontario                      47   47  ...          47                 47\n",
              "Prince Edward Island          1    1  ...           1                  1\n",
              "Québec                       36   36  ...          36                 36\n",
              "Saskatchewan                 16   16  ...          16                 16\n",
              "Yukon                         4    4  ...           4                  4\n",
              "\n",
              "[13 rows x 8 columns]"
            ]
          },
          "metadata": {},
          "execution_count": 47
        }
      ]
    },
    {
      "cell_type": "markdown",
      "metadata": {
        "id": "fKpHeD2yJsZa"
      },
      "source": [
        "# Process city dataframe"
      ]
    },
    {
      "cell_type": "code",
      "metadata": {
        "id": "SjnHGwEQJo7V"
      },
      "source": [
        "city_df.rename(columns={\"admin\": \"capital\", \"capital\": \"admin\"}, inplace=True)\n",
        "city_df.columns = city_df.columns.str.upper()"
      ],
      "execution_count": null,
      "outputs": []
    },
    {
      "cell_type": "code",
      "metadata": {
        "colab": {
          "base_uri": "https://localhost:8080/",
          "height": 204
        },
        "id": "Ypq7NBYfKI9P",
        "outputId": "b832aad4-f72d-4361-b201-068948a90054"
      },
      "source": [
        "city_df.head(5)"
      ],
      "execution_count": null,
      "outputs": [
        {
          "output_type": "execute_result",
          "data": {
            "text/html": [
              "<div>\n",
              "<style scoped>\n",
              "    .dataframe tbody tr th:only-of-type {\n",
              "        vertical-align: middle;\n",
              "    }\n",
              "\n",
              "    .dataframe tbody tr th {\n",
              "        vertical-align: top;\n",
              "    }\n",
              "\n",
              "    .dataframe thead th {\n",
              "        text-align: right;\n",
              "    }\n",
              "</style>\n",
              "<table border=\"1\" class=\"dataframe\">\n",
              "  <thead>\n",
              "    <tr style=\"text-align: right;\">\n",
              "      <th></th>\n",
              "      <th>CITY</th>\n",
              "      <th>LAT</th>\n",
              "      <th>LNG</th>\n",
              "      <th>COUNTRY</th>\n",
              "      <th>ISO2</th>\n",
              "      <th>CAPITAL</th>\n",
              "      <th>ADMIN</th>\n",
              "      <th>POPULATION</th>\n",
              "      <th>POPULATION_PROPER</th>\n",
              "    </tr>\n",
              "  </thead>\n",
              "  <tbody>\n",
              "    <tr>\n",
              "      <th>0</th>\n",
              "      <td>Toronto</td>\n",
              "      <td>43.666667</td>\n",
              "      <td>-79.416667</td>\n",
              "      <td>Canada</td>\n",
              "      <td>CA</td>\n",
              "      <td>Ontario</td>\n",
              "      <td>admin</td>\n",
              "      <td>5213000</td>\n",
              "      <td>3934421</td>\n",
              "    </tr>\n",
              "    <tr>\n",
              "      <th>1</th>\n",
              "      <td>Montréal</td>\n",
              "      <td>45.500000</td>\n",
              "      <td>-73.583333</td>\n",
              "      <td>Canada</td>\n",
              "      <td>CA</td>\n",
              "      <td>Québec</td>\n",
              "      <td>NaN</td>\n",
              "      <td>3678000</td>\n",
              "      <td>2356556</td>\n",
              "    </tr>\n",
              "    <tr>\n",
              "      <th>2</th>\n",
              "      <td>Vancouver</td>\n",
              "      <td>49.250000</td>\n",
              "      <td>-123.133333</td>\n",
              "      <td>Canada</td>\n",
              "      <td>CA</td>\n",
              "      <td>British Columbia</td>\n",
              "      <td>NaN</td>\n",
              "      <td>2313328</td>\n",
              "      <td>603502</td>\n",
              "    </tr>\n",
              "    <tr>\n",
              "      <th>3</th>\n",
              "      <td>Ottawa</td>\n",
              "      <td>45.416667</td>\n",
              "      <td>-75.700000</td>\n",
              "      <td>Canada</td>\n",
              "      <td>CA</td>\n",
              "      <td>Ontario</td>\n",
              "      <td>primary</td>\n",
              "      <td>1145000</td>\n",
              "      <td>812129</td>\n",
              "    </tr>\n",
              "    <tr>\n",
              "      <th>4</th>\n",
              "      <td>Calgary</td>\n",
              "      <td>51.083333</td>\n",
              "      <td>-114.083333</td>\n",
              "      <td>Canada</td>\n",
              "      <td>CA</td>\n",
              "      <td>Alberta</td>\n",
              "      <td>NaN</td>\n",
              "      <td>1110000</td>\n",
              "      <td>915322</td>\n",
              "    </tr>\n",
              "  </tbody>\n",
              "</table>\n",
              "</div>"
            ],
            "text/plain": [
              "        CITY        LAT         LNG  ...    ADMIN POPULATION POPULATION_PROPER\n",
              "0    Toronto  43.666667  -79.416667  ...    admin    5213000           3934421\n",
              "1   Montréal  45.500000  -73.583333  ...      NaN    3678000           2356556\n",
              "2  Vancouver  49.250000 -123.133333  ...      NaN    2313328            603502\n",
              "3     Ottawa  45.416667  -75.700000  ...  primary    1145000            812129\n",
              "4    Calgary  51.083333 -114.083333  ...      NaN    1110000            915322\n",
              "\n",
              "[5 rows x 9 columns]"
            ]
          },
          "metadata": {},
          "execution_count": 49
        }
      ]
    },
    {
      "cell_type": "code",
      "metadata": {
        "colab": {
          "base_uri": "https://localhost:8080/"
        },
        "id": "YN8g6NZ2KO0A",
        "outputId": "eeea18d6-f65a-49a8-bbfa-2c96f9344778"
      },
      "source": [
        "city_df.LAT.isna().values.any()"
      ],
      "execution_count": null,
      "outputs": [
        {
          "output_type": "execute_result",
          "data": {
            "text/plain": [
              "False"
            ]
          },
          "metadata": {},
          "execution_count": 50
        }
      ]
    },
    {
      "cell_type": "code",
      "metadata": {
        "colab": {
          "base_uri": "https://localhost:8080/"
        },
        "id": "gadsQ9YcKyqt",
        "outputId": "510d663f-d382-4185-bc89-4dd25bbab21f"
      },
      "source": [
        "city_df['CITY'].nunique() "
      ],
      "execution_count": null,
      "outputs": [
        {
          "output_type": "execute_result",
          "data": {
            "text/plain": [
              "245"
            ]
          },
          "metadata": {},
          "execution_count": 51
        }
      ]
    },
    {
      "cell_type": "code",
      "metadata": {
        "colab": {
          "base_uri": "https://localhost:8080/"
        },
        "id": "Aj2Qcxe6K9Wa",
        "outputId": "f2ebc07a-86f8-466a-cdc4-50399e3259a6"
      },
      "source": [
        "city_df['CAPITAL'].nunique() "
      ],
      "execution_count": null,
      "outputs": [
        {
          "output_type": "execute_result",
          "data": {
            "text/plain": [
              "13"
            ]
          },
          "metadata": {},
          "execution_count": 52
        }
      ]
    },
    {
      "cell_type": "markdown",
      "metadata": {
        "id": "BQBrK3p8N7jx"
      },
      "source": [
        "## Analysis of city dataframe to understand the fields and data "
      ]
    },
    {
      "cell_type": "code",
      "metadata": {
        "colab": {
          "base_uri": "https://localhost:8080/"
        },
        "id": "OhTFbghQNss0",
        "outputId": "8c733bd6-1a25-4b1d-afab-711fc3420ab6"
      },
      "source": [
        "climate_df.columns "
      ],
      "execution_count": null,
      "outputs": [
        {
          "output_type": "execute_result",
          "data": {
            "text/plain": [
              "Index(['lng', 'lat', 'STATION_NAME', 'CLIMATE_IDENTIFIER', 'ID', 'LOCAL_DATE',\n",
              "       'PROVINCE_CODE', 'LOCAL_YEAR', 'LOCAL_MONTH', 'LOCAL_DAY',\n",
              "       'MEAN_TEMPERATURE', 'MEAN_TEMPERATURE_FLAG', 'MIN_TEMPERATURE',\n",
              "       'MIN_TEMPERATURE_FLAG', 'MAX_TEMPERATURE', 'MAX_TEMPERATURE_FLAG',\n",
              "       'TOTAL_PRECIPITATION', 'TOTAL_PRECIPITATION_FLAG', 'TOTAL_RAIN',\n",
              "       'TOTAL_RAIN_FLAG', 'TOTAL_SNOW', 'TOTAL_SNOW_FLAG', 'SNOW_ON_GROUND',\n",
              "       'SNOW_ON_GROUND_FLAG', 'DIRECTION_MAX_GUST', 'DIRECTION_MAX_GUST_FLAG',\n",
              "       'SPEED_MAX_GUST', 'SPEED_MAX_GUST_FLAG', 'COOLING_DEGREE_DAYS',\n",
              "       'COOLING_DEGREE_DAYS_FLAG', 'HEATING_DEGREE_DAYS',\n",
              "       'HEATING_DEGREE_DAYS_FLAG', 'MIN_REL_HUMIDITY', 'MIN_REL_HUMIDITY_FLAG',\n",
              "       'MAX_REL_HUMIDITY', 'MAX_REL_HUMIDITY_FLAG'],\n",
              "      dtype='object')"
            ]
          },
          "metadata": {},
          "execution_count": 56
        }
      ]
    },
    {
      "cell_type": "code",
      "metadata": {
        "colab": {
          "base_uri": "https://localhost:8080/",
          "height": 317
        },
        "id": "SuUCCgrAOWOq",
        "outputId": "df5c95c5-a9a3-4e01-c129-4d9e96a1ba3f"
      },
      "source": [
        "climate_df.describe()"
      ],
      "execution_count": null,
      "outputs": [
        {
          "output_type": "execute_result",
          "data": {
            "text/html": [
              "<div>\n",
              "<style scoped>\n",
              "    .dataframe tbody tr th:only-of-type {\n",
              "        vertical-align: middle;\n",
              "    }\n",
              "\n",
              "    .dataframe tbody tr th {\n",
              "        vertical-align: top;\n",
              "    }\n",
              "\n",
              "    .dataframe thead th {\n",
              "        text-align: right;\n",
              "    }\n",
              "</style>\n",
              "<table border=\"1\" class=\"dataframe\">\n",
              "  <thead>\n",
              "    <tr style=\"text-align: right;\">\n",
              "      <th></th>\n",
              "      <th>lng</th>\n",
              "      <th>lat</th>\n",
              "      <th>LOCAL_YEAR</th>\n",
              "      <th>LOCAL_MONTH</th>\n",
              "      <th>LOCAL_DAY</th>\n",
              "      <th>MEAN_TEMPERATURE</th>\n",
              "      <th>MIN_TEMPERATURE</th>\n",
              "      <th>MAX_TEMPERATURE</th>\n",
              "      <th>TOTAL_PRECIPITATION</th>\n",
              "      <th>TOTAL_RAIN</th>\n",
              "      <th>TOTAL_SNOW</th>\n",
              "      <th>SNOW_ON_GROUND</th>\n",
              "      <th>DIRECTION_MAX_GUST</th>\n",
              "      <th>SPEED_MAX_GUST</th>\n",
              "      <th>COOLING_DEGREE_DAYS</th>\n",
              "      <th>HEATING_DEGREE_DAYS</th>\n",
              "      <th>MIN_REL_HUMIDITY</th>\n",
              "      <th>MAX_REL_HUMIDITY</th>\n",
              "    </tr>\n",
              "  </thead>\n",
              "  <tbody>\n",
              "    <tr>\n",
              "      <th>count</th>\n",
              "      <td>41513.000000</td>\n",
              "      <td>41513.000000</td>\n",
              "      <td>41513.0</td>\n",
              "      <td>41513.000000</td>\n",
              "      <td>41513.000000</td>\n",
              "      <td>39456.000000</td>\n",
              "      <td>39573.000000</td>\n",
              "      <td>39538.000000</td>\n",
              "      <td>30441.000000</td>\n",
              "      <td>7895.000000</td>\n",
              "      <td>7934.000000</td>\n",
              "      <td>21865.000000</td>\n",
              "      <td>18403.000000</td>\n",
              "      <td>18585.000000</td>\n",
              "      <td>39456.0</td>\n",
              "      <td>39456.000000</td>\n",
              "      <td>33531.000000</td>\n",
              "      <td>33531.000000</td>\n",
              "    </tr>\n",
              "    <tr>\n",
              "      <th>mean</th>\n",
              "      <td>-98.869026</td>\n",
              "      <td>52.456319</td>\n",
              "      <td>2021.0</td>\n",
              "      <td>1.325585</td>\n",
              "      <td>13.395129</td>\n",
              "      <td>-11.061200</td>\n",
              "      <td>-15.364056</td>\n",
              "      <td>-6.731327</td>\n",
              "      <td>2.250977</td>\n",
              "      <td>2.565763</td>\n",
              "      <td>1.499370</td>\n",
              "      <td>26.529842</td>\n",
              "      <td>23.130414</td>\n",
              "      <td>47.406726</td>\n",
              "      <td>0.0</td>\n",
              "      <td>29.061200</td>\n",
              "      <td>67.547434</td>\n",
              "      <td>86.593719</td>\n",
              "    </tr>\n",
              "    <tr>\n",
              "      <th>std</th>\n",
              "      <td>23.178858</td>\n",
              "      <td>6.741840</td>\n",
              "      <td>0.0</td>\n",
              "      <td>0.468599</td>\n",
              "      <td>8.607924</td>\n",
              "      <td>11.507346</td>\n",
              "      <td>12.235715</td>\n",
              "      <td>11.262898</td>\n",
              "      <td>6.777407</td>\n",
              "      <td>8.358784</td>\n",
              "      <td>4.098045</td>\n",
              "      <td>26.587205</td>\n",
              "      <td>9.459961</td>\n",
              "      <td>15.174350</td>\n",
              "      <td>0.0</td>\n",
              "      <td>11.507346</td>\n",
              "      <td>12.859809</td>\n",
              "      <td>9.364097</td>\n",
              "    </tr>\n",
              "    <tr>\n",
              "      <th>min</th>\n",
              "      <td>-140.868889</td>\n",
              "      <td>41.948614</td>\n",
              "      <td>2021.0</td>\n",
              "      <td>1.000000</td>\n",
              "      <td>1.000000</td>\n",
              "      <td>-50.000000</td>\n",
              "      <td>-51.800000</td>\n",
              "      <td>-48.100000</td>\n",
              "      <td>0.000000</td>\n",
              "      <td>0.000000</td>\n",
              "      <td>0.000000</td>\n",
              "      <td>0.000000</td>\n",
              "      <td>1.000000</td>\n",
              "      <td>31.000000</td>\n",
              "      <td>0.0</td>\n",
              "      <td>6.500000</td>\n",
              "      <td>14.000000</td>\n",
              "      <td>43.000000</td>\n",
              "    </tr>\n",
              "    <tr>\n",
              "      <th>25%</th>\n",
              "      <td>-117.817094</td>\n",
              "      <td>48.647222</td>\n",
              "      <td>2021.0</td>\n",
              "      <td>1.000000</td>\n",
              "      <td>6.000000</td>\n",
              "      <td>-19.200000</td>\n",
              "      <td>-24.900000</td>\n",
              "      <td>-13.900000</td>\n",
              "      <td>0.000000</td>\n",
              "      <td>0.000000</td>\n",
              "      <td>0.000000</td>\n",
              "      <td>7.000000</td>\n",
              "      <td>17.000000</td>\n",
              "      <td>36.000000</td>\n",
              "      <td>0.0</td>\n",
              "      <td>20.300000</td>\n",
              "      <td>60.000000</td>\n",
              "      <td>80.000000</td>\n",
              "    </tr>\n",
              "    <tr>\n",
              "      <th>50%</th>\n",
              "      <td>-105.137222</td>\n",
              "      <td>50.441111</td>\n",
              "      <td>2021.0</td>\n",
              "      <td>1.000000</td>\n",
              "      <td>12.000000</td>\n",
              "      <td>-8.700000</td>\n",
              "      <td>-13.600000</td>\n",
              "      <td>-3.700000</td>\n",
              "      <td>0.000000</td>\n",
              "      <td>0.000000</td>\n",
              "      <td>0.000000</td>\n",
              "      <td>22.000000</td>\n",
              "      <td>26.000000</td>\n",
              "      <td>43.000000</td>\n",
              "      <td>0.0</td>\n",
              "      <td>26.700000</td>\n",
              "      <td>68.000000</td>\n",
              "      <td>88.000000</td>\n",
              "    </tr>\n",
              "    <tr>\n",
              "      <th>75%</th>\n",
              "      <td>-78.166667</td>\n",
              "      <td>54.286111</td>\n",
              "      <td>2021.0</td>\n",
              "      <td>2.000000</td>\n",
              "      <td>20.000000</td>\n",
              "      <td>-2.300000</td>\n",
              "      <td>-5.700000</td>\n",
              "      <td>1.500000</td>\n",
              "      <td>1.400000</td>\n",
              "      <td>0.000000</td>\n",
              "      <td>1.000000</td>\n",
              "      <td>38.000000</td>\n",
              "      <td>31.000000</td>\n",
              "      <td>54.000000</td>\n",
              "      <td>0.0</td>\n",
              "      <td>37.200000</td>\n",
              "      <td>76.000000</td>\n",
              "      <td>94.000000</td>\n",
              "    </tr>\n",
              "    <tr>\n",
              "      <th>max</th>\n",
              "      <td>-52.783339</td>\n",
              "      <td>76.425833</td>\n",
              "      <td>2021.0</td>\n",
              "      <td>2.000000</td>\n",
              "      <td>31.000000</td>\n",
              "      <td>11.500000</td>\n",
              "      <td>9.800000</td>\n",
              "      <td>16.500000</td>\n",
              "      <td>292.500000</td>\n",
              "      <td>163.500000</td>\n",
              "      <td>70.000000</td>\n",
              "      <td>258.000000</td>\n",
              "      <td>36.000000</td>\n",
              "      <td>191.000000</td>\n",
              "      <td>0.0</td>\n",
              "      <td>68.000000</td>\n",
              "      <td>100.000000</td>\n",
              "      <td>100.000000</td>\n",
              "    </tr>\n",
              "  </tbody>\n",
              "</table>\n",
              "</div>"
            ],
            "text/plain": [
              "                lng           lat  ...  MIN_REL_HUMIDITY  MAX_REL_HUMIDITY\n",
              "count  41513.000000  41513.000000  ...      33531.000000      33531.000000\n",
              "mean     -98.869026     52.456319  ...         67.547434         86.593719\n",
              "std       23.178858      6.741840  ...         12.859809          9.364097\n",
              "min     -140.868889     41.948614  ...         14.000000         43.000000\n",
              "25%     -117.817094     48.647222  ...         60.000000         80.000000\n",
              "50%     -105.137222     50.441111  ...         68.000000         88.000000\n",
              "75%      -78.166667     54.286111  ...         76.000000         94.000000\n",
              "max      -52.783339     76.425833  ...        100.000000        100.000000\n",
              "\n",
              "[8 rows x 18 columns]"
            ]
          },
          "metadata": {},
          "execution_count": 54
        }
      ]
    },
    {
      "cell_type": "code",
      "metadata": {
        "colab": {
          "base_uri": "https://localhost:8080/"
        },
        "id": "RQYJU59eOZ0A",
        "outputId": "712c9876-8c5d-4c51-ea04-1607536ef994"
      },
      "source": [
        "climate_df.isna().values.any()"
      ],
      "execution_count": null,
      "outputs": [
        {
          "output_type": "execute_result",
          "data": {
            "text/plain": [
              "True"
            ]
          },
          "metadata": {},
          "execution_count": 55
        }
      ]
    },
    {
      "cell_type": "markdown",
      "metadata": {
        "id": "bcDwEOIsOq84"
      },
      "source": [
        "# Process Climate Dataframe"
      ]
    },
    {
      "cell_type": "code",
      "metadata": {
        "id": "Q7G1uiHaOxRx"
      },
      "source": [
        "climate_df.columns = climate_df.columns.str.upper()"
      ],
      "execution_count": null,
      "outputs": []
    },
    {
      "cell_type": "code",
      "metadata": {
        "colab": {
          "base_uri": "https://localhost:8080/",
          "height": 309
        },
        "id": "98Gc0HlHO3yT",
        "outputId": "dffc583e-6f97-4996-faa9-eece51cdf617"
      },
      "source": [
        "climate_df.head(5)"
      ],
      "execution_count": null,
      "outputs": [
        {
          "output_type": "execute_result",
          "data": {
            "text/html": [
              "<div>\n",
              "<style scoped>\n",
              "    .dataframe tbody tr th:only-of-type {\n",
              "        vertical-align: middle;\n",
              "    }\n",
              "\n",
              "    .dataframe tbody tr th {\n",
              "        vertical-align: top;\n",
              "    }\n",
              "\n",
              "    .dataframe thead th {\n",
              "        text-align: right;\n",
              "    }\n",
              "</style>\n",
              "<table border=\"1\" class=\"dataframe\">\n",
              "  <thead>\n",
              "    <tr style=\"text-align: right;\">\n",
              "      <th></th>\n",
              "      <th>LNG</th>\n",
              "      <th>LAT</th>\n",
              "      <th>STATION_NAME</th>\n",
              "      <th>CLIMATE_IDENTIFIER</th>\n",
              "      <th>ID</th>\n",
              "      <th>LOCAL_DATE</th>\n",
              "      <th>PROVINCE_CODE</th>\n",
              "      <th>LOCAL_YEAR</th>\n",
              "      <th>LOCAL_MONTH</th>\n",
              "      <th>LOCAL_DAY</th>\n",
              "      <th>MEAN_TEMPERATURE</th>\n",
              "      <th>MEAN_TEMPERATURE_FLAG</th>\n",
              "      <th>MIN_TEMPERATURE</th>\n",
              "      <th>MIN_TEMPERATURE_FLAG</th>\n",
              "      <th>MAX_TEMPERATURE</th>\n",
              "      <th>MAX_TEMPERATURE_FLAG</th>\n",
              "      <th>TOTAL_PRECIPITATION</th>\n",
              "      <th>TOTAL_PRECIPITATION_FLAG</th>\n",
              "      <th>TOTAL_RAIN</th>\n",
              "      <th>TOTAL_RAIN_FLAG</th>\n",
              "      <th>TOTAL_SNOW</th>\n",
              "      <th>TOTAL_SNOW_FLAG</th>\n",
              "      <th>SNOW_ON_GROUND</th>\n",
              "      <th>SNOW_ON_GROUND_FLAG</th>\n",
              "      <th>DIRECTION_MAX_GUST</th>\n",
              "      <th>DIRECTION_MAX_GUST_FLAG</th>\n",
              "      <th>SPEED_MAX_GUST</th>\n",
              "      <th>SPEED_MAX_GUST_FLAG</th>\n",
              "      <th>COOLING_DEGREE_DAYS</th>\n",
              "      <th>COOLING_DEGREE_DAYS_FLAG</th>\n",
              "      <th>HEATING_DEGREE_DAYS</th>\n",
              "      <th>HEATING_DEGREE_DAYS_FLAG</th>\n",
              "      <th>MIN_REL_HUMIDITY</th>\n",
              "      <th>MIN_REL_HUMIDITY_FLAG</th>\n",
              "      <th>MAX_REL_HUMIDITY</th>\n",
              "      <th>MAX_REL_HUMIDITY_FLAG</th>\n",
              "    </tr>\n",
              "  </thead>\n",
              "  <tbody>\n",
              "    <tr>\n",
              "      <th>0</th>\n",
              "      <td>-112.966667</td>\n",
              "      <td>54.283333</td>\n",
              "      <td>ABEE AGDM</td>\n",
              "      <td>3010010</td>\n",
              "      <td>3010010.2020.1.1</td>\n",
              "      <td>2021-01-01 0:00</td>\n",
              "      <td>AB</td>\n",
              "      <td>2021</td>\n",
              "      <td>1</td>\n",
              "      <td>1</td>\n",
              "      <td>-9.2</td>\n",
              "      <td>NaN</td>\n",
              "      <td>-16.4</td>\n",
              "      <td>NaN</td>\n",
              "      <td>-2.1</td>\n",
              "      <td>NaN</td>\n",
              "      <td>NaN</td>\n",
              "      <td>M</td>\n",
              "      <td>NaN</td>\n",
              "      <td>NaN</td>\n",
              "      <td>NaN</td>\n",
              "      <td>M</td>\n",
              "      <td>NaN</td>\n",
              "      <td>NaN</td>\n",
              "      <td>NaN</td>\n",
              "      <td>NaN</td>\n",
              "      <td>NaN</td>\n",
              "      <td>NaN</td>\n",
              "      <td>0.0</td>\n",
              "      <td>NaN</td>\n",
              "      <td>27.2</td>\n",
              "      <td>NaN</td>\n",
              "      <td>86.0</td>\n",
              "      <td>NaN</td>\n",
              "      <td>97.0</td>\n",
              "      <td>NaN</td>\n",
              "    </tr>\n",
              "    <tr>\n",
              "      <th>1</th>\n",
              "      <td>-112.966667</td>\n",
              "      <td>54.283333</td>\n",
              "      <td>ABEE AGDM</td>\n",
              "      <td>3010010</td>\n",
              "      <td>3010010.2020.1.2</td>\n",
              "      <td>2021-01-02 0:00</td>\n",
              "      <td>AB</td>\n",
              "      <td>2021</td>\n",
              "      <td>1</td>\n",
              "      <td>2</td>\n",
              "      <td>-7.9</td>\n",
              "      <td>NaN</td>\n",
              "      <td>-14.7</td>\n",
              "      <td>NaN</td>\n",
              "      <td>-1.1</td>\n",
              "      <td>NaN</td>\n",
              "      <td>0.9</td>\n",
              "      <td>NaN</td>\n",
              "      <td>NaN</td>\n",
              "      <td>NaN</td>\n",
              "      <td>NaN</td>\n",
              "      <td>M</td>\n",
              "      <td>NaN</td>\n",
              "      <td>NaN</td>\n",
              "      <td>34.0</td>\n",
              "      <td>NaN</td>\n",
              "      <td>53.0</td>\n",
              "      <td>NaN</td>\n",
              "      <td>0.0</td>\n",
              "      <td>NaN</td>\n",
              "      <td>25.9</td>\n",
              "      <td>NaN</td>\n",
              "      <td>47.0</td>\n",
              "      <td>NaN</td>\n",
              "      <td>99.0</td>\n",
              "      <td>NaN</td>\n",
              "    </tr>\n",
              "    <tr>\n",
              "      <th>2</th>\n",
              "      <td>-112.966667</td>\n",
              "      <td>54.283333</td>\n",
              "      <td>ABEE AGDM</td>\n",
              "      <td>3010010</td>\n",
              "      <td>3010010.2020.1.3</td>\n",
              "      <td>2021-01-03 0:00</td>\n",
              "      <td>AB</td>\n",
              "      <td>2021</td>\n",
              "      <td>1</td>\n",
              "      <td>3</td>\n",
              "      <td>-12.0</td>\n",
              "      <td>NaN</td>\n",
              "      <td>-17.8</td>\n",
              "      <td>NaN</td>\n",
              "      <td>-6.2</td>\n",
              "      <td>NaN</td>\n",
              "      <td>NaN</td>\n",
              "      <td>M</td>\n",
              "      <td>NaN</td>\n",
              "      <td>NaN</td>\n",
              "      <td>NaN</td>\n",
              "      <td>M</td>\n",
              "      <td>NaN</td>\n",
              "      <td>NaN</td>\n",
              "      <td>13.0</td>\n",
              "      <td>NaN</td>\n",
              "      <td>37.0</td>\n",
              "      <td>NaN</td>\n",
              "      <td>0.0</td>\n",
              "      <td>NaN</td>\n",
              "      <td>30.0</td>\n",
              "      <td>NaN</td>\n",
              "      <td>77.0</td>\n",
              "      <td>NaN</td>\n",
              "      <td>93.0</td>\n",
              "      <td>NaN</td>\n",
              "    </tr>\n",
              "    <tr>\n",
              "      <th>3</th>\n",
              "      <td>-112.966667</td>\n",
              "      <td>54.283333</td>\n",
              "      <td>ABEE AGDM</td>\n",
              "      <td>3010010</td>\n",
              "      <td>3010010.2020.1.4</td>\n",
              "      <td>2021-01-04 0:00</td>\n",
              "      <td>AB</td>\n",
              "      <td>2021</td>\n",
              "      <td>1</td>\n",
              "      <td>4</td>\n",
              "      <td>-5.1</td>\n",
              "      <td>NaN</td>\n",
              "      <td>-10.0</td>\n",
              "      <td>NaN</td>\n",
              "      <td>-0.2</td>\n",
              "      <td>NaN</td>\n",
              "      <td>0.0</td>\n",
              "      <td>NaN</td>\n",
              "      <td>NaN</td>\n",
              "      <td>NaN</td>\n",
              "      <td>NaN</td>\n",
              "      <td>M</td>\n",
              "      <td>NaN</td>\n",
              "      <td>NaN</td>\n",
              "      <td>32.0</td>\n",
              "      <td>NaN</td>\n",
              "      <td>65.0</td>\n",
              "      <td>NaN</td>\n",
              "      <td>0.0</td>\n",
              "      <td>NaN</td>\n",
              "      <td>23.1</td>\n",
              "      <td>NaN</td>\n",
              "      <td>64.0</td>\n",
              "      <td>NaN</td>\n",
              "      <td>92.0</td>\n",
              "      <td>NaN</td>\n",
              "    </tr>\n",
              "    <tr>\n",
              "      <th>4</th>\n",
              "      <td>-112.966667</td>\n",
              "      <td>54.283333</td>\n",
              "      <td>ABEE AGDM</td>\n",
              "      <td>3010010</td>\n",
              "      <td>3010010.2020.1.5</td>\n",
              "      <td>2021-01-05 0:00</td>\n",
              "      <td>AB</td>\n",
              "      <td>2021</td>\n",
              "      <td>1</td>\n",
              "      <td>5</td>\n",
              "      <td>-10.6</td>\n",
              "      <td>NaN</td>\n",
              "      <td>-19.6</td>\n",
              "      <td>NaN</td>\n",
              "      <td>-1.5</td>\n",
              "      <td>NaN</td>\n",
              "      <td>NaN</td>\n",
              "      <td>M</td>\n",
              "      <td>NaN</td>\n",
              "      <td>NaN</td>\n",
              "      <td>NaN</td>\n",
              "      <td>M</td>\n",
              "      <td>NaN</td>\n",
              "      <td>NaN</td>\n",
              "      <td>NaN</td>\n",
              "      <td>NaN</td>\n",
              "      <td>NaN</td>\n",
              "      <td>NaN</td>\n",
              "      <td>0.0</td>\n",
              "      <td>NaN</td>\n",
              "      <td>28.6</td>\n",
              "      <td>NaN</td>\n",
              "      <td>57.0</td>\n",
              "      <td>NaN</td>\n",
              "      <td>98.0</td>\n",
              "      <td>NaN</td>\n",
              "    </tr>\n",
              "  </tbody>\n",
              "</table>\n",
              "</div>"
            ],
            "text/plain": [
              "          LNG        LAT  ... MAX_REL_HUMIDITY MAX_REL_HUMIDITY_FLAG\n",
              "0 -112.966667  54.283333  ...             97.0                   NaN\n",
              "1 -112.966667  54.283333  ...             99.0                   NaN\n",
              "2 -112.966667  54.283333  ...             93.0                   NaN\n",
              "3 -112.966667  54.283333  ...             92.0                   NaN\n",
              "4 -112.966667  54.283333  ...             98.0                   NaN\n",
              "\n",
              "[5 rows x 36 columns]"
            ]
          },
          "metadata": {},
          "execution_count": 58
        }
      ]
    },
    {
      "cell_type": "markdown",
      "metadata": {
        "id": "uDFtTBUyPFo0"
      },
      "source": [
        "## Define a map with Canada Provinces & abbreviation which will be helpful to map the dataframes."
      ]
    },
    {
      "cell_type": "code",
      "metadata": {
        "id": "OmLknSMrPYNu"
      },
      "source": [
        "canada_province_map = {\"Ontario\": \"ON\", \"Québec\": \"QC\", \"British Columbia\": \"BC\", \"Newfoundland and Labrador\": \"NL\",\"Prince Edward Island\": \"PE\", \"Nova Scotia\": \"NS\", \"New Brunswick\": \"NB\", \"Manitoba\": \"MB\",\n",
        "                        \"Saskatchewan\": \"SK\",\"Alberta\": \"AB\", \"Yukon\": \"YT\", \"Northwest Territories\": \"NT\", \"Nunavut\": \"NU\"}"
      ],
      "execution_count": null,
      "outputs": []
    },
    {
      "cell_type": "markdown",
      "metadata": {
        "id": "dyBvcQR3PmQb"
      },
      "source": [
        "# In order to compute temperature stats for urban canada, list of urban canadian areas need to be defined. One factor which would be useful in determining urban area is population. The cities.csv file contains two fields, population & population_proper. Out of these two, 'population' field is considered for filtering urban canada since population_proper could mean population within a city downtown area."
      ]
    },
    {
      "cell_type": "code",
      "metadata": {
        "id": "6ZfOApQFRYQL"
      },
      "source": [
        "urban_cities_df = city_df[city_df['POPULATION'] >= 100000].copy()\n"
      ],
      "execution_count": null,
      "outputs": []
    },
    {
      "cell_type": "markdown",
      "metadata": {
        "id": "rGEgAAvhRo3x"
      },
      "source": [
        "# Add a new column that contains Capital Abbreviations to urban cities dataframe which will be useful to map climate data."
      ]
    },
    {
      "cell_type": "code",
      "metadata": {
        "colab": {
          "base_uri": "https://localhost:8080/",
          "height": 204
        },
        "id": "_PFSaZkNRnL9",
        "outputId": "462d77d7-9ff3-4154-bac3-c3e680ca89c4"
      },
      "source": [
        "urban_cities_df['CAPITAL_ABBR'] = urban_cities_df.apply(lambda row: canada_province_map[row['CAPITAL']], axis=1)\n",
        "urban_cities_df.head(5)"
      ],
      "execution_count": null,
      "outputs": [
        {
          "output_type": "execute_result",
          "data": {
            "text/html": [
              "<div>\n",
              "<style scoped>\n",
              "    .dataframe tbody tr th:only-of-type {\n",
              "        vertical-align: middle;\n",
              "    }\n",
              "\n",
              "    .dataframe tbody tr th {\n",
              "        vertical-align: top;\n",
              "    }\n",
              "\n",
              "    .dataframe thead th {\n",
              "        text-align: right;\n",
              "    }\n",
              "</style>\n",
              "<table border=\"1\" class=\"dataframe\">\n",
              "  <thead>\n",
              "    <tr style=\"text-align: right;\">\n",
              "      <th></th>\n",
              "      <th>CITY</th>\n",
              "      <th>LAT</th>\n",
              "      <th>LNG</th>\n",
              "      <th>COUNTRY</th>\n",
              "      <th>ISO2</th>\n",
              "      <th>CAPITAL</th>\n",
              "      <th>ADMIN</th>\n",
              "      <th>POPULATION</th>\n",
              "      <th>POPULATION_PROPER</th>\n",
              "      <th>CAPITAL_ABBR</th>\n",
              "    </tr>\n",
              "  </thead>\n",
              "  <tbody>\n",
              "    <tr>\n",
              "      <th>0</th>\n",
              "      <td>Toronto</td>\n",
              "      <td>43.666667</td>\n",
              "      <td>-79.416667</td>\n",
              "      <td>Canada</td>\n",
              "      <td>CA</td>\n",
              "      <td>Ontario</td>\n",
              "      <td>admin</td>\n",
              "      <td>5213000</td>\n",
              "      <td>3934421</td>\n",
              "      <td>ON</td>\n",
              "    </tr>\n",
              "    <tr>\n",
              "      <th>1</th>\n",
              "      <td>Montréal</td>\n",
              "      <td>45.500000</td>\n",
              "      <td>-73.583333</td>\n",
              "      <td>Canada</td>\n",
              "      <td>CA</td>\n",
              "      <td>Québec</td>\n",
              "      <td>NaN</td>\n",
              "      <td>3678000</td>\n",
              "      <td>2356556</td>\n",
              "      <td>QC</td>\n",
              "    </tr>\n",
              "    <tr>\n",
              "      <th>2</th>\n",
              "      <td>Vancouver</td>\n",
              "      <td>49.250000</td>\n",
              "      <td>-123.133333</td>\n",
              "      <td>Canada</td>\n",
              "      <td>CA</td>\n",
              "      <td>British Columbia</td>\n",
              "      <td>NaN</td>\n",
              "      <td>2313328</td>\n",
              "      <td>603502</td>\n",
              "      <td>BC</td>\n",
              "    </tr>\n",
              "    <tr>\n",
              "      <th>3</th>\n",
              "      <td>Ottawa</td>\n",
              "      <td>45.416667</td>\n",
              "      <td>-75.700000</td>\n",
              "      <td>Canada</td>\n",
              "      <td>CA</td>\n",
              "      <td>Ontario</td>\n",
              "      <td>primary</td>\n",
              "      <td>1145000</td>\n",
              "      <td>812129</td>\n",
              "      <td>ON</td>\n",
              "    </tr>\n",
              "    <tr>\n",
              "      <th>4</th>\n",
              "      <td>Calgary</td>\n",
              "      <td>51.083333</td>\n",
              "      <td>-114.083333</td>\n",
              "      <td>Canada</td>\n",
              "      <td>CA</td>\n",
              "      <td>Alberta</td>\n",
              "      <td>NaN</td>\n",
              "      <td>1110000</td>\n",
              "      <td>915322</td>\n",
              "      <td>AB</td>\n",
              "    </tr>\n",
              "  </tbody>\n",
              "</table>\n",
              "</div>"
            ],
            "text/plain": [
              "        CITY        LAT         LNG  ... POPULATION POPULATION_PROPER CAPITAL_ABBR\n",
              "0    Toronto  43.666667  -79.416667  ...    5213000           3934421           ON\n",
              "1   Montréal  45.500000  -73.583333  ...    3678000           2356556           QC\n",
              "2  Vancouver  49.250000 -123.133333  ...    2313328            603502           BC\n",
              "3     Ottawa  45.416667  -75.700000  ...    1145000            812129           ON\n",
              "4    Calgary  51.083333 -114.083333  ...    1110000            915322           AB\n",
              "\n",
              "[5 rows x 10 columns]"
            ]
          },
          "metadata": {},
          "execution_count": 63
        }
      ]
    },
    {
      "cell_type": "markdown",
      "metadata": {
        "id": "JcKeIX2rS7n6"
      },
      "source": [
        "# Unique Urban Provinces based on the population filter. (Population> 100000)"
      ]
    },
    {
      "cell_type": "code",
      "metadata": {
        "colab": {
          "base_uri": "https://localhost:8080/"
        },
        "id": "D-bFdQ8NTE06",
        "outputId": "1e40cfd0-ec98-40e2-e661-64b168c6d14d"
      },
      "source": [
        " urban_province_unique = urban_cities_df['CAPITAL_ABBR'].unique()\n",
        " urban_province_unique"
      ],
      "execution_count": null,
      "outputs": [
        {
          "output_type": "execute_result",
          "data": {
            "text/plain": [
              "array(['ON', 'QC', 'BC', 'AB', 'MB', 'NS', 'SK', 'NL'], dtype=object)"
            ]
          },
          "metadata": {},
          "execution_count": 64
        }
      ]
    },
    {
      "cell_type": "markdown",
      "metadata": {
        "id": "-5_967QTTboJ"
      },
      "source": [
        "# Mapping of province abbreviation and the urban cities that are part of the province"
      ]
    },
    {
      "cell_type": "code",
      "metadata": {
        "colab": {
          "base_uri": "https://localhost:8080/",
          "height": 390
        },
        "id": "fq9XI5ymTeOg",
        "outputId": "57401d86-edcb-4144-e432-c4eaf3b8f3a0"
      },
      "source": [
        "urban_city_df_map = dict(tuple(urban_cities_df.groupby('CAPITAL_ABBR')))\n",
        "urban_city_df_map['ON']"
      ],
      "execution_count": null,
      "outputs": [
        {
          "output_type": "execute_result",
          "data": {
            "text/html": [
              "<div>\n",
              "<style scoped>\n",
              "    .dataframe tbody tr th:only-of-type {\n",
              "        vertical-align: middle;\n",
              "    }\n",
              "\n",
              "    .dataframe tbody tr th {\n",
              "        vertical-align: top;\n",
              "    }\n",
              "\n",
              "    .dataframe thead th {\n",
              "        text-align: right;\n",
              "    }\n",
              "</style>\n",
              "<table border=\"1\" class=\"dataframe\">\n",
              "  <thead>\n",
              "    <tr style=\"text-align: right;\">\n",
              "      <th></th>\n",
              "      <th>CITY</th>\n",
              "      <th>LAT</th>\n",
              "      <th>LNG</th>\n",
              "      <th>COUNTRY</th>\n",
              "      <th>ISO2</th>\n",
              "      <th>CAPITAL</th>\n",
              "      <th>ADMIN</th>\n",
              "      <th>POPULATION</th>\n",
              "      <th>POPULATION_PROPER</th>\n",
              "      <th>CAPITAL_ABBR</th>\n",
              "    </tr>\n",
              "  </thead>\n",
              "  <tbody>\n",
              "    <tr>\n",
              "      <th>0</th>\n",
              "      <td>Toronto</td>\n",
              "      <td>43.666667</td>\n",
              "      <td>-79.416667</td>\n",
              "      <td>Canada</td>\n",
              "      <td>CA</td>\n",
              "      <td>Ontario</td>\n",
              "      <td>admin</td>\n",
              "      <td>5213000</td>\n",
              "      <td>3934421</td>\n",
              "      <td>ON</td>\n",
              "    </tr>\n",
              "    <tr>\n",
              "      <th>3</th>\n",
              "      <td>Ottawa</td>\n",
              "      <td>45.416667</td>\n",
              "      <td>-75.700000</td>\n",
              "      <td>Canada</td>\n",
              "      <td>CA</td>\n",
              "      <td>Ontario</td>\n",
              "      <td>primary</td>\n",
              "      <td>1145000</td>\n",
              "      <td>812129</td>\n",
              "      <td>ON</td>\n",
              "    </tr>\n",
              "    <tr>\n",
              "      <th>6</th>\n",
              "      <td>Hamilton</td>\n",
              "      <td>43.256101</td>\n",
              "      <td>-79.857484</td>\n",
              "      <td>Canada</td>\n",
              "      <td>CA</td>\n",
              "      <td>Ontario</td>\n",
              "      <td>NaN</td>\n",
              "      <td>721053</td>\n",
              "      <td>519949</td>\n",
              "      <td>ON</td>\n",
              "    </tr>\n",
              "    <tr>\n",
              "      <th>9</th>\n",
              "      <td>Oshawa</td>\n",
              "      <td>43.900000</td>\n",
              "      <td>-78.866667</td>\n",
              "      <td>Canada</td>\n",
              "      <td>CA</td>\n",
              "      <td>Ontario</td>\n",
              "      <td>NaN</td>\n",
              "      <td>450963</td>\n",
              "      <td>247989</td>\n",
              "      <td>ON</td>\n",
              "    </tr>\n",
              "    <tr>\n",
              "      <th>10</th>\n",
              "      <td>Kitchener</td>\n",
              "      <td>43.446976</td>\n",
              "      <td>-80.472484</td>\n",
              "      <td>Canada</td>\n",
              "      <td>CA</td>\n",
              "      <td>Ontario</td>\n",
              "      <td>NaN</td>\n",
              "      <td>417001</td>\n",
              "      <td>409112</td>\n",
              "      <td>ON</td>\n",
              "    </tr>\n",
              "    <tr>\n",
              "      <th>12</th>\n",
              "      <td>London</td>\n",
              "      <td>42.983333</td>\n",
              "      <td>-81.250000</td>\n",
              "      <td>Canada</td>\n",
              "      <td>CA</td>\n",
              "      <td>Ontario</td>\n",
              "      <td>NaN</td>\n",
              "      <td>346765</td>\n",
              "      <td>335035</td>\n",
              "      <td>ON</td>\n",
              "    </tr>\n",
              "    <tr>\n",
              "      <th>13</th>\n",
              "      <td>Windsor</td>\n",
              "      <td>42.301649</td>\n",
              "      <td>-83.030744</td>\n",
              "      <td>Canada</td>\n",
              "      <td>CA</td>\n",
              "      <td>Ontario</td>\n",
              "      <td>NaN</td>\n",
              "      <td>319246</td>\n",
              "      <td>210891</td>\n",
              "      <td>ON</td>\n",
              "    </tr>\n",
              "    <tr>\n",
              "      <th>16</th>\n",
              "      <td>Barrie</td>\n",
              "      <td>44.383333</td>\n",
              "      <td>-79.700000</td>\n",
              "      <td>Canada</td>\n",
              "      <td>CA</td>\n",
              "      <td>Ontario</td>\n",
              "      <td>NaN</td>\n",
              "      <td>182041</td>\n",
              "      <td>119732</td>\n",
              "      <td>ON</td>\n",
              "    </tr>\n",
              "    <tr>\n",
              "      <th>18</th>\n",
              "      <td>Sudbury</td>\n",
              "      <td>46.500000</td>\n",
              "      <td>-80.966667</td>\n",
              "      <td>Canada</td>\n",
              "      <td>CA</td>\n",
              "      <td>Ontario</td>\n",
              "      <td>NaN</td>\n",
              "      <td>157857</td>\n",
              "      <td>80507</td>\n",
              "      <td>ON</td>\n",
              "    </tr>\n",
              "    <tr>\n",
              "      <th>20</th>\n",
              "      <td>Sarnia</td>\n",
              "      <td>42.978417</td>\n",
              "      <td>-82.388177</td>\n",
              "      <td>Canada</td>\n",
              "      <td>CA</td>\n",
              "      <td>Ontario</td>\n",
              "      <td>NaN</td>\n",
              "      <td>144172</td>\n",
              "      <td>82998</td>\n",
              "      <td>ON</td>\n",
              "    </tr>\n",
              "    <tr>\n",
              "      <th>25</th>\n",
              "      <td>Kingston</td>\n",
              "      <td>44.300000</td>\n",
              "      <td>-76.566667</td>\n",
              "      <td>Canada</td>\n",
              "      <td>CA</td>\n",
              "      <td>Ontario</td>\n",
              "      <td>NaN</td>\n",
              "      <td>114195</td>\n",
              "      <td>102400</td>\n",
              "      <td>ON</td>\n",
              "    </tr>\n",
              "  </tbody>\n",
              "</table>\n",
              "</div>"
            ],
            "text/plain": [
              "         CITY        LAT        LNG  ... POPULATION POPULATION_PROPER CAPITAL_ABBR\n",
              "0     Toronto  43.666667 -79.416667  ...    5213000           3934421           ON\n",
              "3      Ottawa  45.416667 -75.700000  ...    1145000            812129           ON\n",
              "6    Hamilton  43.256101 -79.857484  ...     721053            519949           ON\n",
              "9      Oshawa  43.900000 -78.866667  ...     450963            247989           ON\n",
              "10  Kitchener  43.446976 -80.472484  ...     417001            409112           ON\n",
              "12     London  42.983333 -81.250000  ...     346765            335035           ON\n",
              "13    Windsor  42.301649 -83.030744  ...     319246            210891           ON\n",
              "16     Barrie  44.383333 -79.700000  ...     182041            119732           ON\n",
              "18    Sudbury  46.500000 -80.966667  ...     157857             80507           ON\n",
              "20     Sarnia  42.978417 -82.388177  ...     144172             82998           ON\n",
              "25   Kingston  44.300000 -76.566667  ...     114195            102400           ON\n",
              "\n",
              "[11 rows x 10 columns]"
            ]
          },
          "metadata": {},
          "execution_count": 66
        }
      ]
    },
    {
      "cell_type": "markdown",
      "metadata": {
        "id": "uYh34RwwUHMU"
      },
      "source": [
        "# Since the focus is only urban canadian temperatures, climates dataframe can be filtered to only include the urban provinces temperature."
      ]
    },
    {
      "cell_type": "code",
      "metadata": {
        "id": "yW5UduopUYOd"
      },
      "source": [
        "urban_climate_df = climate_df[climate_df['PROVINCE_CODE'].isin(urban_province_unique)]"
      ],
      "execution_count": null,
      "outputs": []
    },
    {
      "cell_type": "markdown",
      "metadata": {
        "id": "5Rp6qvFoUtc8"
      },
      "source": [
        "# Since the goal is to obtain the temperature statistics for urban canada, the station that are part of urban canada cities should be filtered. But, in order to map a station with an urban city, there is no other mapping columns available other than the latitude & longtitude for weather station and city.\n",
        "# The below code blocks contains logic to determine distance from the weather statation to all the urban cities that are part of the province. Climate dataframe contains weather station Latitude,longitude and also the province Code for the stations. This will explained in steps.\n"
      ]
    },
    {
      "cell_type": "markdown",
      "metadata": {
        "id": "6BvTqv-DairY"
      },
      "source": [
        "#Step 1 : Below function is referred from https://www.geeksforgeeks.org/program-distance-two-points-earth/. This program contains logic to determine distance between two points using teh latitude and longitude."
      ]
    },
    {
      "cell_type": "code",
      "metadata": {
        "id": "len3sgyQZ1UT"
      },
      "source": [
        "\n",
        "def distance(lat1: float, lat2: float, lon1: float, lon2: float) -> float:\n",
        "    # The math module contains a function named\n",
        "    # radians which converts from degrees to radians.\n",
        "    lon1 = radians(lon1)\n",
        "    lon2 = radians(lon2)\n",
        "    lat1 = radians(lat1)\n",
        "    lat2 = radians(lat2)\n",
        "    # Haversine formula\n",
        "    dlon = lon2 - lon1\n",
        "    dlat = lat2 - lat1\n",
        "    a = sin(dlat / 2) ** 2 + cos(lat1) * cos(lat2) * sin(dlon / 2) ** 2\n",
        "    c = 2 * asin(sqrt(a))\n",
        "    # Radius of earth in kilometers. Use 3956 for miles\n",
        "    r = 6371\n",
        "    # calculate the result\n",
        "    return c * r\n"
      ],
      "execution_count": null,
      "outputs": []
    },
    {
      "cell_type": "markdown",
      "metadata": {
        "id": "SQdrSujtbClJ"
      },
      "source": [
        "# Step 2: Another function defined, which will take the required input arguments to compute the distance between a given station and all the cities that are part of the province the statation is located. (Climate csv only contain station , temperature & province code. There is no direct mapping to cities)"
      ]
    },
    {
      "cell_type": "code",
      "metadata": {
        "id": "gRk5sbMkbh1e"
      },
      "source": [
        "def station_city_mapping(province_code,station_lat,station_lng):\n",
        "    urban_city_sub_df = urban_city_df_map[province_code]\n",
        "    city_name_series = urban_city_sub_df['CITY']\n",
        "    city_lat_series = urban_city_sub_df['LAT']\n",
        "    city_lng_series = urban_city_sub_df['LNG']\n",
        "    dist_arr = []\n",
        "    for index, value in city_lat_series.items():\n",
        "        city_lat = value\n",
        "        city_lng = city_lng_series[index]\n",
        "        dist = distance(city_lat, station_lat, city_lng, station_lng)\n",
        "        dist_arr.append(dist)    \n",
        "    min_dist = min(dist_arr)\n",
        "    min_idx = dist_arr.index(min_dist)    \n",
        "    city = city_name_series.iloc[min_idx]    \n",
        "    return pd.Series({'CITY': city,'DISTANCE_FROM_CITY_KM': min_dist})\n"
      ],
      "execution_count": null,
      "outputs": []
    },
    {
      "cell_type": "markdown",
      "metadata": {
        "id": "hBdr_n6ob3pp"
      },
      "source": [
        ""
      ]
    }
  ]
}